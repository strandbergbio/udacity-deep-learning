{
 "cells": [
  {
   "cell_type": "markdown",
   "metadata": {
    "colab_type": "text",
    "id": "4embtkV0pNxM"
   },
   "source": [
    "Deep Learning\n",
    "=============\n",
    "\n",
    "Assignment 4\n",
    "------------\n",
    "\n",
    "Previously in `2_fullyconnected.ipynb` and `3_regularization.ipynb`, we trained fully connected networks to classify [notMNIST](http://yaroslavvb.blogspot.com/2011/09/notmnist-dataset.html) characters.\n",
    "\n",
    "The goal of this assignment is make the neural network convolutional."
   ]
  },
  {
   "cell_type": "code",
   "execution_count": 6,
   "metadata": {
    "cellView": "both",
    "colab": {
     "autoexec": {
      "startup": false,
      "wait_interval": 0
     }
    },
    "colab_type": "code",
    "collapsed": true,
    "id": "tm2CQN_Cpwj0"
   },
   "outputs": [],
   "source": [
    "# These are all the modules we'll be using later. Make sure you can import them\n",
    "# before proceeding further.\n",
    "from __future__ import print_function\n",
    "import numpy as np\n",
    "import tensorflow as tf\n",
    "from six.moves import cPickle as pickle\n",
    "from six.moves import range"
   ]
  },
  {
   "cell_type": "code",
   "execution_count": 7,
   "metadata": {
    "cellView": "both",
    "colab": {
     "autoexec": {
      "startup": false,
      "wait_interval": 0
     },
     "output_extras": [
      {
       "item_id": 1
      }
     ]
    },
    "colab_type": "code",
    "collapsed": false,
    "executionInfo": {
     "elapsed": 11948,
     "status": "ok",
     "timestamp": 1446658914837,
     "user": {
      "color": "",
      "displayName": "",
      "isAnonymous": false,
      "isMe": true,
      "permissionId": "",
      "photoUrl": "",
      "sessionId": "0",
      "userId": ""
     },
     "user_tz": 480
    },
    "id": "y3-cj1bpmuxc",
    "outputId": "016b1a51-0290-4b08-efdb-8c95ffc3cd01"
   },
   "outputs": [
    {
     "name": "stdout",
     "output_type": "stream",
     "text": [
      "Training set (200000, 28, 28) (200000,)\n",
      "Validation set (10000, 28, 28) (10000,)\n",
      "Test set (10000, 28, 28) (10000,)\n"
     ]
    }
   ],
   "source": [
    "pickle_file = 'notMNIST.pickle'\n",
    "\n",
    "with open(pickle_file, 'rb') as f:\n",
    "  save = pickle.load(f)\n",
    "  train_dataset = save['train_dataset']\n",
    "  train_labels = save['train_labels']\n",
    "  valid_dataset = save['valid_dataset']\n",
    "  valid_labels = save['valid_labels']\n",
    "  test_dataset = save['test_dataset']\n",
    "  test_labels = save['test_labels']\n",
    "  del save  # hint to help gc free up memory\n",
    "  print('Training set', train_dataset.shape, train_labels.shape)\n",
    "  print('Validation set', valid_dataset.shape, valid_labels.shape)\n",
    "  print('Test set', test_dataset.shape, test_labels.shape)"
   ]
  },
  {
   "cell_type": "markdown",
   "metadata": {
    "colab_type": "text",
    "id": "L7aHrm6nGDMB"
   },
   "source": [
    "Reformat into a TensorFlow-friendly shape:\n",
    "- convolutions need the image data formatted as a cube (width by height by #channels)\n",
    "- labels as float 1-hot encodings."
   ]
  },
  {
   "cell_type": "code",
   "execution_count": 8,
   "metadata": {
    "cellView": "both",
    "colab": {
     "autoexec": {
      "startup": false,
      "wait_interval": 0
     },
     "output_extras": [
      {
       "item_id": 1
      }
     ]
    },
    "colab_type": "code",
    "collapsed": false,
    "executionInfo": {
     "elapsed": 11952,
     "status": "ok",
     "timestamp": 1446658914857,
     "user": {
      "color": "",
      "displayName": "",
      "isAnonymous": false,
      "isMe": true,
      "permissionId": "",
      "photoUrl": "",
      "sessionId": "0",
      "userId": ""
     },
     "user_tz": 480
    },
    "id": "IRSyYiIIGIzS",
    "outputId": "650a208c-8359-4852-f4f5-8bf10e80ef6c"
   },
   "outputs": [
    {
     "name": "stdout",
     "output_type": "stream",
     "text": [
      "Training set (200000, 28, 28, 1) (200000, 10)\n",
      "Validation set (10000, 28, 28, 1) (10000, 10)\n",
      "Test set (10000, 28, 28, 1) (10000, 10)\n"
     ]
    }
   ],
   "source": [
    "image_size = 28\n",
    "num_labels = 10\n",
    "num_channels = 1 # grayscale\n",
    "\n",
    "import numpy as np\n",
    "\n",
    "def reformat(dataset, labels):\n",
    "  dataset = dataset.reshape(\n",
    "    (-1, image_size, image_size, num_channels)).astype(np.float32)\n",
    "  labels = (np.arange(num_labels) == labels[:,None]).astype(np.float32)\n",
    "  return dataset, labels\n",
    "train_dataset, train_labels = reformat(train_dataset, train_labels)\n",
    "valid_dataset, valid_labels = reformat(valid_dataset, valid_labels)\n",
    "test_dataset, test_labels = reformat(test_dataset, test_labels)\n",
    "print('Training set', train_dataset.shape, train_labels.shape)\n",
    "print('Validation set', valid_dataset.shape, valid_labels.shape)\n",
    "print('Test set', test_dataset.shape, test_labels.shape)"
   ]
  },
  {
   "cell_type": "code",
   "execution_count": 9,
   "metadata": {
    "cellView": "both",
    "colab": {
     "autoexec": {
      "startup": false,
      "wait_interval": 0
     }
    },
    "colab_type": "code",
    "collapsed": true,
    "id": "AgQDIREv02p1"
   },
   "outputs": [],
   "source": [
    "def accuracy(predictions, labels):\n",
    "  return (100.0 * np.sum(np.argmax(predictions, 1) == np.argmax(labels, 1))\n",
    "          / predictions.shape[0])"
   ]
  },
  {
   "cell_type": "markdown",
   "metadata": {
    "colab_type": "text",
    "id": "5rhgjmROXu2O"
   },
   "source": [
    "Let's build a small network with two convolutional layers, followed by one fully connected layer. Convolutional networks are more expensive computationally, so we'll limit its depth and number of fully connected nodes."
   ]
  },
  {
   "cell_type": "code",
   "execution_count": 14,
   "metadata": {
    "cellView": "both",
    "colab": {
     "autoexec": {
      "startup": false,
      "wait_interval": 0
     }
    },
    "colab_type": "code",
    "collapsed": false,
    "id": "IZYv70SvvOan"
   },
   "outputs": [
    {
     "name": "stdout",
     "output_type": "stream",
     "text": [
      "[5, 5, 1, 16]\n",
      "[16, 14, 14, 16]\n",
      "[10000, 14, 14, 16]\n",
      "[10000, 14, 14, 16]\n"
     ]
    }
   ],
   "source": [
    "batch_size = 16\n",
    "patch_size = 5\n",
    "depth = 16\n",
    "num_hidden = 64\n",
    "\n",
    "graph = tf.Graph()\n",
    "\n",
    "with graph.as_default():\n",
    "\n",
    "  # Input data.\n",
    "  tf_train_dataset = tf.placeholder(\n",
    "    tf.float32, shape=(batch_size, image_size, image_size, num_channels))\n",
    "  tf_train_labels = tf.placeholder(tf.float32, shape=(batch_size, num_labels))\n",
    "  tf_valid_dataset = tf.constant(valid_dataset)\n",
    "  tf_test_dataset = tf.constant(test_dataset)\n",
    "  \n",
    "  # Variables.\n",
    "  layer1_weights = tf.Variable(tf.truncated_normal(\n",
    "      [patch_size, patch_size, num_channels, depth], stddev=0.1))\n",
    "  layer1_biases = tf.Variable(tf.zeros([depth]))\n",
    "  layer2_weights = tf.Variable(tf.truncated_normal(\n",
    "      [patch_size, patch_size, depth, depth], stddev=0.1))\n",
    "  layer2_biases = tf.Variable(tf.constant(1.0, shape=[depth]))\n",
    "  layer3_weights = tf.Variable(tf.truncated_normal(\n",
    "      [image_size // 4 * image_size // 4 * depth, num_hidden], stddev=0.1))\n",
    "  layer3_biases = tf.Variable(tf.constant(1.0, shape=[num_hidden]))\n",
    "  layer4_weights = tf.Variable(tf.truncated_normal(\n",
    "      [num_hidden, num_labels], stddev=0.1))\n",
    "  layer4_biases = tf.Variable(tf.constant(1.0, shape=[num_labels]))\n",
    "  \n",
    "  # Model.\n",
    "  def model(data):\n",
    "    conv = tf.nn.conv2d(data, layer1_weights, [1, 2, 2, 1], padding='SAME')\n",
    "    hidden = tf.nn.relu(conv + layer1_biases)\n",
    "    conv = tf.nn.conv2d(hidden, layer2_weights, [1, 2, 2, 1], padding='SAME')\n",
    "    hidden = tf.nn.relu(conv + layer2_biases)\n",
    "    shape = hidden.get_shape().as_list()\n",
    "    reshape = tf.reshape(hidden, [shape[0], shape[1] * shape[2] * shape[3]])\n",
    "    hidden = tf.nn.relu(tf.matmul(reshape, layer3_weights) + layer3_biases)\n",
    "    return tf.matmul(hidden, layer4_weights) + layer4_biases\n",
    "  \n",
    "  # Training computation.\n",
    "  logits = model(tf_train_dataset)\n",
    "  loss = tf.reduce_mean(\n",
    "    tf.nn.softmax_cross_entropy_with_logits(logits, tf_train_labels))\n",
    "    \n",
    "  # Optimizer.\n",
    "  optimizer = tf.train.GradientDescentOptimizer(0.05).minimize(loss)\n",
    "  \n",
    "  # Predictions for the training, validation, and test data.\n",
    "  train_prediction = tf.nn.softmax(logits)\n",
    "  valid_prediction = tf.nn.softmax(model(tf_valid_dataset))\n",
    "  test_prediction = tf.nn.softmax(model(tf_test_dataset))"
   ]
  },
  {
   "cell_type": "code",
   "execution_count": 7,
   "metadata": {
    "cellView": "both",
    "colab": {
     "autoexec": {
      "startup": false,
      "wait_interval": 0
     },
     "output_extras": [
      {
       "item_id": 37
      }
     ]
    },
    "colab_type": "code",
    "collapsed": false,
    "executionInfo": {
     "elapsed": 63292,
     "status": "ok",
     "timestamp": 1446658966251,
     "user": {
      "color": "",
      "displayName": "",
      "isAnonymous": false,
      "isMe": true,
      "permissionId": "",
      "photoUrl": "",
      "sessionId": "0",
      "userId": ""
     },
     "user_tz": 480
    },
    "id": "noKFb2UovVFR",
    "outputId": "28941338-2ef9-4088-8bd1-44295661e628"
   },
   "outputs": [
    {
     "name": "stdout",
     "output_type": "stream",
     "text": [
      "Initialized\n",
      "Minibatch loss at step 0: 2.825204\n",
      "Minibatch accuracy: 12.5%\n",
      "Validation accuracy: 11.4%\n",
      "Minibatch loss at step 50: 1.507004\n",
      "Minibatch accuracy: 50.0%\n",
      "Validation accuracy: 50.9%\n",
      "Minibatch loss at step 100: 1.128740\n",
      "Minibatch accuracy: 50.0%\n",
      "Validation accuracy: 69.5%\n",
      "Minibatch loss at step 150: 1.520594\n",
      "Minibatch accuracy: 56.2%\n",
      "Validation accuracy: 70.5%\n",
      "Minibatch loss at step 200: 1.080940\n",
      "Minibatch accuracy: 68.8%\n",
      "Validation accuracy: 75.8%\n",
      "Minibatch loss at step 250: 0.943564\n",
      "Minibatch accuracy: 75.0%\n",
      "Validation accuracy: 78.6%\n",
      "Minibatch loss at step 300: 0.320749\n",
      "Minibatch accuracy: 87.5%\n",
      "Validation accuracy: 80.1%\n",
      "Minibatch loss at step 350: 0.827811\n",
      "Minibatch accuracy: 75.0%\n",
      "Validation accuracy: 79.6%\n",
      "Minibatch loss at step 400: 0.968733\n",
      "Minibatch accuracy: 68.8%\n",
      "Validation accuracy: 81.3%\n",
      "Minibatch loss at step 450: 0.329783\n",
      "Minibatch accuracy: 93.8%\n",
      "Validation accuracy: 81.4%\n",
      "Minibatch loss at step 500: 0.315037\n",
      "Minibatch accuracy: 87.5%\n",
      "Validation accuracy: 79.7%\n",
      "Minibatch loss at step 550: 0.570895\n",
      "Minibatch accuracy: 87.5%\n",
      "Validation accuracy: 81.5%\n",
      "Minibatch loss at step 600: 0.577780\n",
      "Minibatch accuracy: 81.2%\n",
      "Validation accuracy: 81.7%\n",
      "Minibatch loss at step 650: 0.436650\n",
      "Minibatch accuracy: 87.5%\n",
      "Validation accuracy: 82.6%\n",
      "Minibatch loss at step 700: 0.809322\n",
      "Minibatch accuracy: 68.8%\n",
      "Validation accuracy: 81.9%\n",
      "Minibatch loss at step 750: 0.519445\n",
      "Minibatch accuracy: 93.8%\n",
      "Validation accuracy: 82.1%\n",
      "Minibatch loss at step 800: 0.171755\n",
      "Minibatch accuracy: 93.8%\n",
      "Validation accuracy: 83.5%\n",
      "Minibatch loss at step 850: 0.277095\n",
      "Minibatch accuracy: 87.5%\n",
      "Validation accuracy: 83.5%\n",
      "Minibatch loss at step 900: 0.320969\n",
      "Minibatch accuracy: 87.5%\n",
      "Validation accuracy: 83.3%\n",
      "Minibatch loss at step 950: 0.518016\n",
      "Minibatch accuracy: 81.2%\n",
      "Validation accuracy: 83.4%\n",
      "Minibatch loss at step 1000: 0.195800\n",
      "Minibatch accuracy: 93.8%\n",
      "Validation accuracy: 83.4%\n",
      "Test accuracy: 89.5%\n"
     ]
    }
   ],
   "source": [
    "num_steps = 1001\n",
    "\n",
    "with tf.Session(graph=graph) as session:\n",
    "  tf.initialize_all_variables().run()\n",
    "  print('Initialized')\n",
    "  for step in range(num_steps):\n",
    "    offset = (step * batch_size) % (train_labels.shape[0] - batch_size)\n",
    "    batch_data = train_dataset[offset:(offset + batch_size), :, :, :]\n",
    "    batch_labels = train_labels[offset:(offset + batch_size), :]\n",
    "    feed_dict = {tf_train_dataset : batch_data, tf_train_labels : batch_labels}\n",
    "    _, l, predictions = session.run(\n",
    "      [optimizer, loss, train_prediction], feed_dict=feed_dict)\n",
    "    if (step % 50 == 0):\n",
    "      print('Minibatch loss at step %d: %f' % (step, l))\n",
    "      print('Minibatch accuracy: %.1f%%' % accuracy(predictions, batch_labels))\n",
    "      print('Validation accuracy: %.1f%%' % accuracy(\n",
    "        valid_prediction.eval(), valid_labels))\n",
    "  print('Test accuracy: %.1f%%' % accuracy(test_prediction.eval(), test_labels))"
   ]
  },
  {
   "cell_type": "markdown",
   "metadata": {
    "colab_type": "text",
    "id": "KedKkn4EutIK"
   },
   "source": [
    "---\n",
    "Problem 1\n",
    "---------\n",
    "\n",
    "The convolutional model above uses convolutions with stride 2 to reduce the dimensionality. Replace the strides by a max pooling operation (`nn.max_pool()`) of stride 2 and kernel size 2.\n",
    "\n",
    "---"
   ]
  },
  {
   "cell_type": "code",
   "execution_count": 20,
   "metadata": {
    "collapsed": false
   },
   "outputs": [
    {
     "name": "stdout",
     "output_type": "stream",
     "text": [
      "Graph built\n"
     ]
    }
   ],
   "source": [
    "stride = 2\n",
    "num_steps = 2000\n",
    "learning_rate = 0.05\n",
    "decay_rate = 0.75\n",
    "decay_steps = 1000\n",
    "patch_size = 2\n",
    "batch_size = 32\n",
    "\n",
    "graph = tf.Graph()\n",
    "with graph.as_default():\n",
    "    tf_train_dataset = tf.placeholder(tf.float32, shape=(batch_size, image_size, image_size, num_channels))\n",
    "    tf_train_labels = tf.placeholder(tf.float32, shape=(batch_size, num_labels))\n",
    "    tf_valid_dataset = tf.constant(valid_dataset)\n",
    "    tf_test_dataset = tf.constant(test_dataset)\n",
    "    \n",
    "    layer_1_weights = tf.Variable(tf.truncated_normal([patch_size, patch_size, num_channels, depth], stddev=0.1))\n",
    "    layer_1_biases = tf.Variable(tf.zeros([depth]))\n",
    "    \n",
    "    pool_1_weights = tf.Variable(\n",
    "        tf.truncated_normal([image_size // stride * image_size // stride * num_channels,\n",
    "                             image_size // stride * image_size // stride * num_channels], stddev = 0.1))\n",
    "    pool_1_biases = tf.Variable(\n",
    "        tf.constant(1.0, shape = [image_size // stride * image_size // stride * num_channels]))\n",
    "    \n",
    "    layer_2_weights = tf.Variable(tf.truncated_normal([patch_size, patch_size, depth, depth], stddev=0.1))\n",
    "    layer_2_biases = tf.Variable(tf.constant(1.0, shape=[depth]))\n",
    "    layer_3_weights = tf.Variable(tf.truncated_normal(\n",
    "        [image_size // (stride ** 2) * image_size // (stride ** 2) * depth, num_hidden], stddev=0.1))\n",
    "    layer_3_biases = tf.Variable(tf.constant(1.0, shape=[num_hidden]))\n",
    "    layer_4_weights = tf.Variable(tf.truncated_normal([num_hidden, num_labels], stddev=0.1))\n",
    "    layer_4_biases = tf.Variable(tf.constant(1.0, shape=[num_labels]))\n",
    "    \n",
    "    def model(data): \n",
    "        pool = tf.nn.max_pool(data, [1, patch_size, patch_size, 1], [1, stride, stride, 1], padding = 'SAME')\n",
    "        shape = pool.get_shape().as_list()\n",
    "        reshape = tf.reshape(pool, [shape[0], shape[1] * shape[2] * shape[3]])\n",
    "        hidden = tf.reshape(\n",
    "            tf.matmul(reshape, pool_1_weights) + pool_1_biases,\n",
    "            [shape[0], shape[1], shape[2], shape[3]])\n",
    "        \n",
    "        pool = tf.nn.max_pool(hidden, [1, patch_size, patch_size, 1], [1, stride, stride, 1], padding = 'SAME')\n",
    "        hidden = tf.nn.relu(pool + layer_2_biases)\n",
    "        shape = hidden.get_shape().as_list()\n",
    "        reshape = tf.reshape(hidden, [shape[0], shape[1] * shape[2] * shape[3]])\n",
    "        hidden = tf.nn.relu(tf.matmul(reshape, layer_3_weights) + layer_3_biases)\n",
    "        return tf.nn.relu(tf.matmul(hidden,layer_4_weights) + layer_4_biases)\n",
    "    \n",
    "    loss = tf.reduce_mean(tf.nn.softmax_cross_entropy_with_logits(model(tf_train_dataset), tf_train_labels))\n",
    "    \n",
    "    global_step = tf.Variable(0, trainable=False)\n",
    "    rate = tf.train.exponential_decay(learning_rate, global_step, decay_rate, decay_steps)        \n",
    "    optimizer = tf.train.GradientDescentOptimizer(0.05).minimize(loss, global_step=global_step)\n",
    "    \n",
    "    train_guess = tf.nn.softmax(model(tf_train_dataset))\n",
    "    valid_guess = tf.nn.softmax(model(tf_valid_dataset))\n",
    "    test_guess = tf.nn.softmax(model(tf_test_dataset))\n",
    "    print(\"Graph built\")"
   ]
  },
  {
   "cell_type": "code",
   "execution_count": 21,
   "metadata": {
    "collapsed": false
   },
   "outputs": [
    {
     "name": "stdout",
     "output_type": "stream",
     "text": [
      "Initizalized\n",
      "0: Loss = 5.075458, Validation accuracy = 10.0\n",
      "100: Loss = 2.305073, Validation accuracy = 10.0\n",
      "200: Loss = 2.307214, Validation accuracy = 10.0\n",
      "300: Loss = 2.304102, Validation accuracy = 10.0\n",
      "400: Loss = 2.306327, Validation accuracy = 10.0\n",
      "500: Loss = 2.293926, Validation accuracy = 10.0\n",
      "600: Loss = 2.306099, Validation accuracy = 10.0\n",
      "700: Loss = 2.304226, Validation accuracy = 10.0\n",
      "800: Loss = 2.306589, Validation accuracy = 10.0\n",
      "900: Loss = 2.311363, Validation accuracy = 10.0\n",
      "1000: Loss = 2.304235, Validation accuracy = 10.0\n",
      "1100: Loss = 2.301548, Validation accuracy = 10.0\n"
     ]
    },
    {
     "ename": "KeyboardInterrupt",
     "evalue": "",
     "output_type": "error",
     "traceback": [
      "\u001b[1;31m---------------------------------------------------------------------------\u001b[0m",
      "\u001b[1;31mKeyboardInterrupt\u001b[0m                         Traceback (most recent call last)",
      "\u001b[1;32m<ipython-input-21-01fcf7de5370>\u001b[0m in \u001b[0;36m<module>\u001b[1;34m()\u001b[0m\n\u001b[0;32m      9\u001b[0m                     tf_train_labels : batch_labels}\n\u001b[0;32m     10\u001b[0m         _, l, predictions = session.run([optimizer, loss, train_guess],\n\u001b[1;32m---> 11\u001b[1;33m                                        feed_dict=feed_dict)\n\u001b[0m\u001b[0;32m     12\u001b[0m         \u001b[1;32mif\u001b[0m \u001b[0mstep\u001b[0m \u001b[1;33m%\u001b[0m \u001b[1;36m100\u001b[0m \u001b[1;33m==\u001b[0m \u001b[1;36m0\u001b[0m\u001b[1;33m:\u001b[0m\u001b[1;33m\u001b[0m\u001b[0m\n\u001b[0;32m     13\u001b[0m             print(\"%d: Loss = %f, Validation accuracy = %.1f\" %\n",
      "\u001b[1;32m/usr/local/lib/python2.7/dist-packages/tensorflow/python/client/session.pyc\u001b[0m in \u001b[0;36mrun\u001b[1;34m(self, fetches, feed_dict)\u001b[0m\n\u001b[0;32m    366\u001b[0m \u001b[1;33m\u001b[0m\u001b[0m\n\u001b[0;32m    367\u001b[0m     \u001b[1;31m# Run request and get response.\u001b[0m\u001b[1;33m\u001b[0m\u001b[1;33m\u001b[0m\u001b[0m\n\u001b[1;32m--> 368\u001b[1;33m     \u001b[0mresults\u001b[0m \u001b[1;33m=\u001b[0m \u001b[0mself\u001b[0m\u001b[1;33m.\u001b[0m\u001b[0m_do_run\u001b[0m\u001b[1;33m(\u001b[0m\u001b[0mtarget_list\u001b[0m\u001b[1;33m,\u001b[0m \u001b[0munique_fetch_targets\u001b[0m\u001b[1;33m,\u001b[0m \u001b[0mfeed_dict_string\u001b[0m\u001b[1;33m)\u001b[0m\u001b[1;33m\u001b[0m\u001b[0m\n\u001b[0m\u001b[0;32m    369\u001b[0m \u001b[1;33m\u001b[0m\u001b[0m\n\u001b[0;32m    370\u001b[0m     \u001b[1;31m# User may have fetched the same tensor multiple times, but we\u001b[0m\u001b[1;33m\u001b[0m\u001b[1;33m\u001b[0m\u001b[0m\n",
      "\u001b[1;32m/usr/local/lib/python2.7/dist-packages/tensorflow/python/client/session.pyc\u001b[0m in \u001b[0;36m_do_run\u001b[1;34m(self, target_list, fetch_list, feed_dict)\u001b[0m\n\u001b[0;32m    426\u001b[0m \u001b[1;33m\u001b[0m\u001b[0m\n\u001b[0;32m    427\u001b[0m       return tf_session.TF_Run(self._session, feed_dict, fetch_list,\n\u001b[1;32m--> 428\u001b[1;33m                                target_list)\n\u001b[0m\u001b[0;32m    429\u001b[0m \u001b[1;33m\u001b[0m\u001b[0m\n\u001b[0;32m    430\u001b[0m     \u001b[1;32mexcept\u001b[0m \u001b[0mtf_session\u001b[0m\u001b[1;33m.\u001b[0m\u001b[0mStatusNotOK\u001b[0m \u001b[1;32mas\u001b[0m \u001b[0me\u001b[0m\u001b[1;33m:\u001b[0m\u001b[1;33m\u001b[0m\u001b[0m\n",
      "\u001b[1;31mKeyboardInterrupt\u001b[0m: "
     ]
    }
   ],
   "source": [
    "with tf.Session(graph=graph) as session:\n",
    "    tf.initialize_all_variables().run()\n",
    "    print(\"Initizalized\")\n",
    "    for step in range(num_steps):\n",
    "        start = (step * batch_size) % (train_dataset.shape[0] - batch_size)\n",
    "        batch_data = train_dataset[start:(start + batch_size),:,:,:]\n",
    "        batch_labels = train_labels[start:(start + batch_size),:]\n",
    "        feed_dict = {tf_train_dataset : batch_data,\n",
    "                    tf_train_labels : batch_labels}\n",
    "        _, l, predictions = session.run([optimizer, loss, train_guess],\n",
    "                                       feed_dict=feed_dict)\n",
    "        if step % 100 == 0:\n",
    "            print(\"%d: Loss = %f, Validation accuracy = %.1f\" %\n",
    "                 (step, l, accuracy(valid_guess.eval(), valid_labels)))\n",
    "    print(\"Test accuracy = %.1f%%\" % accuracy(test_guess.eval(), test_labels))"
   ]
  },
  {
   "cell_type": "markdown",
   "metadata": {
    "colab_type": "text",
    "id": "klf21gpbAgb-"
   },
   "source": [
    "---\n",
    "Problem 2\n",
    "---------\n",
    "\n",
    "Try to get the best performance you can using a convolutional net. Look for example at the classic [LeNet5](http://yann.lecun.com/exdb/lenet/) architecture, adding Dropout, and/or adding learning rate decay.\n",
    "\n",
    "---"
   ]
  },
  {
   "cell_type": "code",
   "execution_count": 50,
   "metadata": {
    "collapsed": false
   },
   "outputs": [],
   "source": [
    "num_steps = 200000 / batch_size\n",
    "batch_size = 32\n",
    "patch_size = 5\n",
    "depth = 16\n",
    "num_hidden = 64\n",
    "init_learning_rate = 0.025\n",
    "decay_rate = 0.75\n",
    "decay_steps = 2000\n",
    "\n",
    "graph = tf.Graph()\n",
    "\n",
    "with graph.as_default():\n",
    "    # Input data.\n",
    "    tf_train_dataset = tf.placeholder(\n",
    "    tf.float32, shape=(batch_size, image_size, image_size, num_channels))\n",
    "    tf_train_labels = tf.placeholder(tf.float32, shape=(batch_size, num_labels))\n",
    "    tf_valid_dataset = tf.constant(valid_dataset)\n",
    "    tf_test_dataset = tf.constant(test_dataset)\n",
    "  \n",
    "    # Variables.\n",
    "    layer1_weights1 = tf.Variable(tf.truncated_normal(\n",
    "      [patch_size, patch_size, num_channels, depth], stddev=0.1))\n",
    "    layer1_biases1 = tf.Variable(tf.zeros([depth]))\n",
    "    layer1_weights2 = tf.Variable(tf.truncated_normal(\n",
    "      [patch_size, patch_size, num_channels, depth], stddev=0.1))\n",
    "    layer1_biases2 = tf.Variable(tf.zeros([depth]))\n",
    "    \n",
    "    layer2_weights1 = tf.Variable(tf.truncated_normal(\n",
    "      [patch_size, patch_size, depth, depth], stddev=0.1))\n",
    "    layer2_biases1 = tf.Variable(tf.constant(1.0, shape=[depth]))\n",
    "    layer2_weights2 = tf.Variable(tf.truncated_normal(\n",
    "      [patch_size, patch_size, depth, depth], stddev=0.1))\n",
    "    layer2_biases2 = tf.Variable(tf.constant(1.0, shape=[depth]))\n",
    "    \n",
    "    layer3_weights = tf.Variable(tf.truncated_normal(\n",
    "      [2 * image_size // 4 * image_size // 4 * depth, num_hidden], stddev=0.1))\n",
    "    layer3_biases = tf.Variable(tf.constant(1.0, shape=[num_hidden]))\n",
    "    layer4_weights = tf.Variable(tf.truncated_normal(\n",
    "      [num_hidden, num_labels], stddev=0.1))\n",
    "    layer4_biases = tf.Variable(tf.constant(1.0, shape=[num_labels]))\n",
    "\n",
    "    # Model.\n",
    "    def model(data):\n",
    "        conv1 = tf.nn.conv2d(data, layer1_weights1, [1, 2, 2, 1], padding='SAME')\n",
    "        hidden1 = tf.nn.relu(conv1 + layer1_biases1)\n",
    "        conv2 = tf.nn.conv2d(data, layer1_weights2, [1, 2, 2, 1], padding='SAME')\n",
    "        hidden2 = tf.nn.relu(conv2 + layer1_biases2)\n",
    "        \n",
    "        conv1 = tf.nn.conv2d(hidden1, layer2_weights1, [1, 2, 2, 1], padding='SAME')\n",
    "        hidden1 = tf.nn.relu(conv1 + layer2_biases1)\n",
    "        conv2 = tf.nn.conv2d(hidden2, layer2_weights2, [1, 2, 2, 1], padding='SAME')\n",
    "        hidden2 = tf.nn.relu(conv2 + layer2_biases2)\n",
    "        \n",
    "        shape1 = hidden1.get_shape().as_list()\n",
    "        reshape1 = tf.reshape(hidden1, [shape1[0], shape1[1] * shape1[2] * shape1[3]])\n",
    "        shape2 = hidden2.get_shape().as_list()\n",
    "        reshape2 = tf.reshape(hidden2, [shape2[0], shape2[1] * shape2[2] * shape2[3]])\n",
    "        combined = tf.concat(1, [reshape1, reshape2])\n",
    "        hidden = tf.nn.relu(tf.matmul(combined, layer3_weights) + layer3_biases)\n",
    "        return tf.matmul(hidden, layer4_weights) + layer4_biases\n",
    "    \n",
    "    def model_with_dropout(data):\n",
    "        conv1 = tf.nn.conv2d(data, layer1_weights1, [1, 2, 2, 1], padding='SAME')\n",
    "        hidden1 = tf.nn.relu(conv1 + layer1_biases1)\n",
    "        conv2 = tf.nn.conv2d(data, layer1_weights2, [1, 2, 2, 1], padding='SAME')\n",
    "        hidden2 = tf.nn.relu(conv2 + layer1_biases2)\n",
    "        \n",
    "        conv1 = tf.nn.conv2d(hidden1, layer2_weights1, [1, 2, 2, 1], padding='SAME')\n",
    "        hidden1 = tf.nn.dropout(tf.nn.relu(conv1 + layer2_biases1), 0.5)\n",
    "        conv2 = tf.nn.conv2d(hidden2, layer2_weights2, [1, 2, 2, 1], padding='SAME')\n",
    "        hidden2 = tf.nn.dropout(tf.nn.relu(conv2 + layer2_biases2), 0.5)\n",
    "        \n",
    "        shape1 = hidden1.get_shape().as_list()\n",
    "        reshape1 = tf.reshape(hidden1, [shape1[0], shape1[1] * shape1[2] * shape1[3]])\n",
    "        shape2 = hidden2.get_shape().as_list()\n",
    "        reshape2 = tf.reshape(hidden2, [shape2[0], shape2[1] * shape2[2] * shape2[3]])\n",
    "        combined = tf.concat(1, [reshape1, reshape2])\n",
    "        hidden = tf.nn.relu(tf.matmul(combined, layer3_weights) + layer3_biases)\n",
    "        return tf.matmul(hidden, layer4_weights) + layer4_biases\n",
    "\n",
    "    # Training computation.\n",
    "    logits = model_with_dropout(tf_train_dataset)\n",
    "    loss = tf.reduce_mean(\n",
    "        tf.nn.softmax_cross_entropy_with_logits(logits, tf_train_labels))\n",
    "\n",
    "    # Optimizer.\n",
    "    global_step = tf.Variable(0, trainable=False)\n",
    "    rate = tf.train.exponential_decay(init_learning_rate, global_step, decay_steps, decay_rate)\n",
    "    optimizer = tf.train.GradientDescentOptimizer(rate).minimize(loss, global_step=global_step)\n",
    "\n",
    "    # Predictions for the training, validation, and test data.\n",
    "    train_prediction = tf.nn.softmax(logits)\n",
    "    valid_prediction = tf.nn.softmax(model(tf_valid_dataset))\n",
    "    test_prediction = tf.nn.softmax(model(tf_test_dataset))\n"
   ]
  },
  {
   "cell_type": "code",
   "execution_count": 51,
   "metadata": {
    "collapsed": false
   },
   "outputs": [
    {
     "name": "stdout",
     "output_type": "stream",
     "text": [
      "Initizalized\n",
      "0: Loss = 5.146671, Validation accuracy = 10.0\n",
      "100: Loss = 1.936816, Validation accuracy = 53.0\n",
      "200: Loss = 1.233626, Validation accuracy = 72.5\n",
      "300: Loss = 1.063901, Validation accuracy = 77.9\n",
      "400: Loss = 1.109857, Validation accuracy = 79.6\n",
      "500: Loss = 0.985595, Validation accuracy = 79.5\n",
      "600: Loss = 1.164552, Validation accuracy = 81.0\n",
      "700: Loss = 0.611234, Validation accuracy = 81.5\n",
      "800: Loss = 1.294408, Validation accuracy = 81.6\n",
      "900: Loss = 0.504283, Validation accuracy = 82.2\n",
      "1000: Loss = 0.911111, Validation accuracy = 82.9\n",
      "1100: Loss = 0.533211, Validation accuracy = 83.1\n",
      "1200: Loss = 0.738193, Validation accuracy = 83.3\n",
      "1300: Loss = 0.882386, Validation accuracy = 83.1\n",
      "1400: Loss = 0.626229, Validation accuracy = 83.9\n",
      "1500: Loss = 0.494324, Validation accuracy = 83.7\n",
      "1600: Loss = 0.992579, Validation accuracy = 83.9\n",
      "1700: Loss = 1.184007, Validation accuracy = 83.8\n",
      "1800: Loss = 0.685211, Validation accuracy = 84.0\n",
      "1900: Loss = 0.680089, Validation accuracy = 84.1\n",
      "2000: Loss = 0.939425, Validation accuracy = 84.3\n",
      "2100: Loss = 0.875098, Validation accuracy = 84.6\n",
      "2200: Loss = 0.567388, Validation accuracy = 84.8\n",
      "2300: Loss = 0.496704, Validation accuracy = 84.7\n",
      "2400: Loss = 1.224220, Validation accuracy = 84.8\n",
      "2500: Loss = 0.922892, Validation accuracy = 84.8\n",
      "2600: Loss = 0.552163, Validation accuracy = 84.9\n",
      "2700: Loss = 0.998023, Validation accuracy = 85.1\n",
      "2800: Loss = 0.535416, Validation accuracy = 85.2\n",
      "2900: Loss = 0.909265, Validation accuracy = 85.1\n",
      "3000: Loss = 0.589820, Validation accuracy = 85.0\n",
      "3100: Loss = 0.512956, Validation accuracy = 85.4\n",
      "3200: Loss = 0.357238, Validation accuracy = 85.0\n",
      "3300: Loss = 0.964609, Validation accuracy = 85.5\n",
      "3400: Loss = 0.881943, Validation accuracy = 85.6\n",
      "3500: Loss = 0.691470, Validation accuracy = 85.6\n",
      "3600: Loss = 0.628745, Validation accuracy = 85.9\n",
      "3700: Loss = 0.610643, Validation accuracy = 85.7\n",
      "3800: Loss = 0.392020, Validation accuracy = 85.8\n",
      "3900: Loss = 0.959939, Validation accuracy = 85.8\n",
      "4000: Loss = 0.431168, Validation accuracy = 85.7\n",
      "4100: Loss = 0.273520, Validation accuracy = 85.9\n",
      "4200: Loss = 0.429562, Validation accuracy = 85.9\n",
      "4300: Loss = 0.815546, Validation accuracy = 85.8\n",
      "4400: Loss = 0.726795, Validation accuracy = 86.1\n",
      "4500: Loss = 0.877997, Validation accuracy = 86.1\n",
      "4600: Loss = 0.348613, Validation accuracy = 86.3\n",
      "4700: Loss = 0.960716, Validation accuracy = 86.1\n",
      "4800: Loss = 1.283532, Validation accuracy = 86.3\n",
      "4900: Loss = 0.534504, Validation accuracy = 86.4\n",
      "5000: Loss = 0.568911, Validation accuracy = 86.2\n",
      "5100: Loss = 0.173740, Validation accuracy = 86.1\n",
      "5200: Loss = 0.347151, Validation accuracy = 86.4\n",
      "5300: Loss = 0.531094, Validation accuracy = 86.4\n",
      "5400: Loss = 0.221381, Validation accuracy = 86.5\n",
      "5500: Loss = 0.953428, Validation accuracy = 86.4\n",
      "5600: Loss = 0.491727, Validation accuracy = 86.4\n",
      "5700: Loss = 0.829738, Validation accuracy = 86.3\n",
      "5800: Loss = 0.667578, Validation accuracy = 86.6\n",
      "5900: Loss = 0.575068, Validation accuracy = 86.6\n",
      "6000: Loss = 0.549361, Validation accuracy = 86.8\n",
      "6100: Loss = 0.756580, Validation accuracy = 86.7\n",
      "6200: Loss = 0.491743, Validation accuracy = 86.6\n",
      "Test accuracy = 92.3%\n"
     ]
    }
   ],
   "source": [
    "with tf.Session(graph=graph) as session:\n",
    "    tf.initialize_all_variables().run()\n",
    "    print(\"Initizalized\")\n",
    "    for step in range(num_steps):\n",
    "        start = (step * batch_size) % (train_dataset.shape[0] - batch_size)\n",
    "        batch_data = train_dataset[start:(start + batch_size),:,:,:]\n",
    "        batch_labels = train_labels[start:(start + batch_size),:]\n",
    "        feed_dict = {tf_train_dataset : batch_data,\n",
    "                    tf_train_labels : batch_labels}\n",
    "        _, l, predictions = session.run([optimizer, loss, train_prediction],\n",
    "                                       feed_dict=feed_dict)\n",
    "        if step % 100 == 0:\n",
    "            print(\"%d: Loss = %f, Validation accuracy = %.1f\" %\n",
    "                 (step, l, accuracy(valid_prediction.eval(), valid_labels)))\n",
    "    print(\"Test accuracy = %.1f%%\" % accuracy(test_prediction.eval(), test_labels))"
   ]
  },
  {
   "cell_type": "code",
   "execution_count": null,
   "metadata": {
    "collapsed": true
   },
   "outputs": [],
   "source": []
  }
 ],
 "metadata": {
  "colab": {
   "default_view": {},
   "name": "4_convolutions.ipynb",
   "provenance": [],
   "version": "0.3.2",
   "views": {}
  },
  "kernelspec": {
   "display_name": "Python 2",
   "language": "python",
   "name": "python2"
  },
  "language_info": {
   "codemirror_mode": {
    "name": "ipython",
    "version": 2
   },
   "file_extension": ".py",
   "mimetype": "text/x-python",
   "name": "python",
   "nbconvert_exporter": "python",
   "pygments_lexer": "ipython2",
   "version": "2.7.6"
  }
 },
 "nbformat": 4,
 "nbformat_minor": 0
}
